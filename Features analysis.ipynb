{
 "cells": [
  {
   "cell_type": "markdown",
   "metadata": {},
   "source": [
    "## Libraries"
   ]
  },
  {
   "cell_type": "code",
   "execution_count": 287,
   "metadata": {},
   "outputs": [],
   "source": [
    "#!pip install jiwer"
   ]
  },
  {
   "cell_type": "code",
   "execution_count": 10,
   "metadata": {},
   "outputs": [],
   "source": [
    "import pandas as pd\n",
    "import numpy as np\n",
    "import tensorflow as tf\n",
    "from tensorflow import keras\n",
    "from tensorflow.keras import layers\n",
    "import matplotlib.pyplot as plt\n",
    "from IPython import display\n",
    "from jiwer import wer\n",
    "import os\n",
    "import librosa\n",
    "import librosa.display"
   ]
  },
  {
   "cell_type": "markdown",
   "metadata": {},
   "source": [
    "# Prepare data."
   ]
  },
  {
   "cell_type": "code",
   "execution_count": 2,
   "metadata": {},
   "outputs": [],
   "source": [
    "wavs_path = 'data/audio_files/train_audios/'\n",
    "metadata_path = 'data/train.csv'"
   ]
  },
  {
   "cell_type": "code",
   "execution_count": 3,
   "metadata": {},
   "outputs": [
    {
     "data": {
      "text/html": [
       "<div>\n",
       "<style scoped>\n",
       "    .dataframe tbody tr th:only-of-type {\n",
       "        vertical-align: middle;\n",
       "    }\n",
       "\n",
       "    .dataframe tbody tr th {\n",
       "        vertical-align: top;\n",
       "    }\n",
       "\n",
       "    .dataframe thead th {\n",
       "        text-align: right;\n",
       "    }\n",
       "</style>\n",
       "<table border=\"1\" class=\"dataframe\">\n",
       "  <thead>\n",
       "    <tr style=\"text-align: right;\">\n",
       "      <th></th>\n",
       "      <th>audio_ID</th>\n",
       "      <th>path</th>\n",
       "      <th>sentence</th>\n",
       "    </tr>\n",
       "  </thead>\n",
       "  <tbody>\n",
       "    <tr>\n",
       "      <th>0</th>\n",
       "      <td>audio_faa7312a</td>\n",
       "      <td>audio_faa7312a.mp3</td>\n",
       "      <td>huko kwa Wakiroba Mkoa wa Mara</td>\n",
       "    </tr>\n",
       "    <tr>\n",
       "      <th>1</th>\n",
       "      <td>audio_643a10c1</td>\n",
       "      <td>audio_643a10c1.mp3</td>\n",
       "      <td>Alingaa katika medani za kisiasa na uongozi nd...</td>\n",
       "    </tr>\n",
       "    <tr>\n",
       "      <th>2</th>\n",
       "      <td>audio_5b626e74</td>\n",
       "      <td>audio_5b626e74.mp3</td>\n",
       "      <td>Vitu saba ambavyo kila baba atakuwa.</td>\n",
       "    </tr>\n",
       "    <tr>\n",
       "      <th>3</th>\n",
       "      <td>audio_5972c5f3</td>\n",
       "      <td>audio_5972c5f3.mp3</td>\n",
       "      <td>inaonyesha mawaziri wapya ambao wamechukua naf...</td>\n",
       "    </tr>\n",
       "    <tr>\n",
       "      <th>4</th>\n",
       "      <td>audio_deebd5b0</td>\n",
       "      <td>audio_deebd5b0.mp3</td>\n",
       "      <td>ee hii pia inatumiwa na kiwanda cha</td>\n",
       "    </tr>\n",
       "  </tbody>\n",
       "</table>\n",
       "</div>"
      ],
      "text/plain": [
       "         audio_ID                path  \\\n",
       "0  audio_faa7312a  audio_faa7312a.mp3   \n",
       "1  audio_643a10c1  audio_643a10c1.mp3   \n",
       "2  audio_5b626e74  audio_5b626e74.mp3   \n",
       "3  audio_5972c5f3  audio_5972c5f3.mp3   \n",
       "4  audio_deebd5b0  audio_deebd5b0.mp3   \n",
       "\n",
       "                                            sentence  \n",
       "0                     huko kwa Wakiroba Mkoa wa Mara  \n",
       "1  Alingaa katika medani za kisiasa na uongozi nd...  \n",
       "2               Vitu saba ambavyo kila baba atakuwa.  \n",
       "3  inaonyesha mawaziri wapya ambao wamechukua naf...  \n",
       "4                ee hii pia inatumiwa na kiwanda cha  "
      ]
     },
     "execution_count": 3,
     "metadata": {},
     "output_type": "execute_result"
    }
   ],
   "source": [
    "metadata_df = pd.read_csv(metadata_path)\n",
    "metadata_df.head()"
   ]
  },
  {
   "cell_type": "code",
   "execution_count": 4,
   "metadata": {},
   "outputs": [
    {
     "data": {
      "text/html": [
       "<div>\n",
       "<style scoped>\n",
       "    .dataframe tbody tr th:only-of-type {\n",
       "        vertical-align: middle;\n",
       "    }\n",
       "\n",
       "    .dataframe tbody tr th {\n",
       "        vertical-align: top;\n",
       "    }\n",
       "\n",
       "    .dataframe thead th {\n",
       "        text-align: right;\n",
       "    }\n",
       "</style>\n",
       "<table border=\"1\" class=\"dataframe\">\n",
       "  <thead>\n",
       "    <tr style=\"text-align: right;\">\n",
       "      <th></th>\n",
       "      <th>audio_ID</th>\n",
       "      <th>sentence</th>\n",
       "    </tr>\n",
       "  </thead>\n",
       "  <tbody>\n",
       "    <tr>\n",
       "      <th>0</th>\n",
       "      <td>audio_e958f59a</td>\n",
       "      <td>wakati wote unatakiwa kuwa mkweli katika maong...</td>\n",
       "    </tr>\n",
       "    <tr>\n",
       "      <th>1</th>\n",
       "      <td>audio_ce644e73</td>\n",
       "      <td>muziki huo alikiambia kipindi cha chagua tano ...</td>\n",
       "    </tr>\n",
       "    <tr>\n",
       "      <th>2</th>\n",
       "      <td>audio_cd6d2100</td>\n",
       "      <td>kuelekea huko bujumbura burundi tutakuwa kunak...</td>\n",
       "    </tr>\n",
       "    <tr>\n",
       "      <th>3</th>\n",
       "      <td>audio_f63c4c05</td>\n",
       "      <td>wataraji kuende na kibarua katika ligi ya mabi...</td>\n",
       "    </tr>\n",
       "    <tr>\n",
       "      <th>4</th>\n",
       "      <td>audio_92c7a58b</td>\n",
       "      <td>Kuamua kuondoka nyumbani na kuacha mali yake n...</td>\n",
       "    </tr>\n",
       "  </tbody>\n",
       "</table>\n",
       "</div>"
      ],
      "text/plain": [
       "         audio_ID                                           sentence\n",
       "0  audio_e958f59a  wakati wote unatakiwa kuwa mkweli katika maong...\n",
       "1  audio_ce644e73  muziki huo alikiambia kipindi cha chagua tano ...\n",
       "2  audio_cd6d2100  kuelekea huko bujumbura burundi tutakuwa kunak...\n",
       "3  audio_f63c4c05  wataraji kuende na kibarua katika ligi ya mabi...\n",
       "4  audio_92c7a58b  Kuamua kuondoka nyumbani na kuacha mali yake n..."
      ]
     },
     "execution_count": 4,
     "metadata": {},
     "output_type": "execute_result"
    }
   ],
   "source": [
    "metadata_df.columns = [\"audio_ID\",\"path\", \"sentence\"]\n",
    "metadata_df = metadata_df[[\"audio_ID\", \"sentence\"]]\n",
    "metadata_df = metadata_df.sample(frac=1).reset_index(drop=True)\n",
    "metadata_df.head()"
   ]
  },
  {
   "cell_type": "code",
   "execution_count": 307,
   "metadata": {},
   "outputs": [
    {
     "data": {
      "text/plain": [
       "(19093, 2)"
      ]
     },
     "execution_count": 307,
     "metadata": {},
     "output_type": "execute_result"
    }
   ],
   "source": [
    "metadata_df.shape"
   ]
  },
  {
   "cell_type": "markdown",
   "metadata": {},
   "source": [
    "#### Data explore:"
   ]
  },
  {
   "cell_type": "code",
   "execution_count": 5,
   "metadata": {},
   "outputs": [],
   "source": [
    "# Initialize lists to store information about the audio files\n",
    "audio_lengths = []\n",
    "sample_rates = []\n",
    "frequencies = []"
   ]
  },
  {
   "cell_type": "code",
   "execution_count": 11,
   "metadata": {},
   "outputs": [],
   "source": [
    "# Function to extract audio features\n",
    "def extract_audio_features(file_path):\n",
    "    try:\n",
    "        # Load the audio file\n",
    "        audio, sample_rate = librosa.load(file_path, sr=None)\n",
    "        \n",
    "        # Get the audio length in seconds\n",
    "        audio_length = librosa.get_duration(y=audio, sr=sample_rate)\n",
    "        \n",
    "        # Calculate the dominant frequency using Fourier Transform\n",
    "        fft = np.fft.fft(audio)\n",
    "        frequency = np.argmax(np.abs(fft))\n",
    "        \n",
    "        return audio_length, sample_rate, frequency\n",
    "    except Exception as e:\n",
    "        print(f\"Error processing {file_path}: {str(e)}\")\n",
    "        return None, None, None"
   ]
  },
  {
   "cell_type": "code",
   "execution_count": 12,
   "metadata": {},
   "outputs": [],
   "source": [
    "import os\n",
    "# Iterate through all audio files in the directory\n",
    "for filename in os.listdir(wavs_path):\n",
    "    if filename.endswith('.mp3'):\n",
    "        file_path = os.path.join(wavs_path, filename)\n",
    "        audio_length, sample_rate, frequency = extract_audio_features(file_path)\n",
    "        \n",
    "        # Append information to lists\n",
    "        if audio_length is not None:\n",
    "            audio_lengths.append(audio_length)\n",
    "        if sample_rate is not None:\n",
    "            sample_rates.append(sample_rate)\n",
    "        if frequency is not None:\n",
    "            frequencies.append(frequency)\n"
   ]
  },
  {
   "cell_type": "code",
   "execution_count": 13,
   "metadata": {},
   "outputs": [
    {
     "name": "stdout",
     "output_type": "stream",
     "text": [
      "Number of audio files loaded: 19093\n",
      "Average audio length: 5.40 seconds\n",
      "Maximum audio length: 20.09 seconds\n",
      "Minimum audio length: 1.26 seconds\n",
      "Average sample rate: 32000.00 Hz\n",
      "Maximum dominant frequency: 632949 Hz\n",
      "Minimum dominant frequency: 0 Hz\n"
     ]
    }
   ],
   "source": [
    "# Calculate and display statistics\n",
    "num_audios = len(audio_lengths)\n",
    "avg_audio_length = np.mean(audio_lengths)\n",
    "max_audio_length = np.max(audio_lengths)\n",
    "min_audio_length = np.min(audio_lengths)\n",
    "\n",
    "avg_sample_rate = np.mean(sample_rates)\n",
    "max_frequency = np.max(frequencies)\n",
    "min_frequency = np.min(frequencies)\n",
    "\n",
    "print(f\"Number of audio files loaded: {num_audios}\")\n",
    "print(f\"Average audio length: {avg_audio_length:.2f} seconds\")\n",
    "print(f\"Maximum audio length: {max_audio_length:.2f} seconds\")\n",
    "print(f\"Minimum audio length: {min_audio_length:.2f} seconds\")\n",
    "\n",
    "print(f\"Average sample rate: {avg_sample_rate:.2f} Hz\")\n",
    "print(f\"Maximum dominant frequency: {max_frequency} Hz\")\n",
    "print(f\"Minimum dominant frequency: {min_frequency} Hz\")"
   ]
  },
  {
   "cell_type": "code",
   "execution_count": 14,
   "metadata": {},
   "outputs": [
    {
     "data": {
      "image/png": "[encoded data removed]",
      "text/plain": [
       "<Figure size 1000x600 with 1 Axes>"
      ]
     },
     "metadata": {},
     "output_type": "display_data"
    }
   ],
   "source": [
    "# Plot a histogram of audio lengths\n",
    "plt.figure(figsize=(10, 6))\n",
    "plt.hist(audio_lengths, bins=30, color='blue', alpha=0.7)\n",
    "plt.xlabel('Audio Length (seconds)')\n",
    "plt.ylabel('Frequency')\n",
    "plt.title('Distribution of Audio Lengths')\n",
    "plt.grid(True)\n",
    "plt.show()"
   ]
  },
  {
   "cell_type": "code",
   "execution_count": 15,
   "metadata": {},
   "outputs": [
    {
     "name": "stdout",
     "output_type": "stream",
     "text": [
      "                File Name  Audio Length (seconds)  Dominant Frequency\n",
      "0      audio_0001945d.mp3                   9.576         1426.060524\n",
      "1      audio_0002ac69.mp3                   7.560         1246.220745\n",
      "2      audio_00070400.mp3                   4.536         1074.869688\n",
      "3      audio_0009db0f.mp3                   7.056         1476.977876\n",
      "4      audio_000dddec.mp3                   2.916         1335.745604\n",
      "...                   ...                     ...                 ...\n",
      "19088  audio_fff29979.mp3                   7.704         1622.178135\n",
      "19089  audio_fff306b8.mp3                   7.668         1077.812153\n",
      "19090  audio_fff8e690.mp3                   8.640         1402.524821\n",
      "19091  audio_fffc8a20.mp3                   7.956         1231.751479\n",
      "19092  audio_ffffeeb1.mp3                   2.988         1508.134797\n",
      "\n",
      "[19093 rows x 3 columns]\n"
     ]
    }
   ],
   "source": [
    "# Initialize lists to store information about the audio files\n",
    "audio_data = []\n",
    "\n",
    "# Function to extract audio features\n",
    "def extract_audio_features(file_path):\n",
    "    try:\n",
    "        # Load the audio file\n",
    "        audio, sample_rate = librosa.load(file_path, sr=None)\n",
    "        \n",
    "        # Get the audio length in seconds\n",
    "        audio_length = librosa.get_duration(y=audio, sr=sample_rate)\n",
    "        \n",
    "        # Calculate the dominant frequency using Fourier Transform\n",
    "        fft = abs(librosa.stft(audio))\n",
    "        frequency = librosa.feature.spectral_centroid(S=fft).mean()\n",
    "        \n",
    "        return audio_length, frequency\n",
    "    except Exception as e:\n",
    "        print(f\"Error processing {file_path}: {str(e)}\")\n",
    "        return None, None\n",
    "\n",
    "# Iterate through all audio files in the directory\n",
    "for filename in os.listdir(wavs_path):\n",
    "    if filename.endswith('.mp3'):\n",
    "        file_path = os.path.join(wavs_path, filename)\n",
    "        audio_length, frequency = extract_audio_features(file_path)\n",
    "        \n",
    "        # Append information to the list\n",
    "        if audio_length is not None and frequency is not None:\n",
    "            audio_data.append([filename, audio_length, frequency])\n",
    "\n",
    "# Create a DataFrame\n",
    "df = pd.DataFrame(audio_data, columns=['File Name', 'Audio Length (seconds)', 'Dominant Frequency'])\n",
    "\n",
    "# print the DataFrame\n",
    "print(df)\n"
   ]
  },
  {
   "cell_type": "code",
   "execution_count": 16,
   "metadata": {},
   "outputs": [
    {
     "data": {
      "text/html": [
       "<div>\n",
       "<style scoped>\n",
       "    .dataframe tbody tr th:only-of-type {\n",
       "        vertical-align: middle;\n",
       "    }\n",
       "\n",
       "    .dataframe tbody tr th {\n",
       "        vertical-align: top;\n",
       "    }\n",
       "\n",
       "    .dataframe thead th {\n",
       "        text-align: right;\n",
       "    }\n",
       "</style>\n",
       "<table border=\"1\" class=\"dataframe\">\n",
       "  <thead>\n",
       "    <tr style=\"text-align: right;\">\n",
       "      <th></th>\n",
       "      <th>File Name</th>\n",
       "      <th>Audio Length (seconds)</th>\n",
       "      <th>Dominant Frequency</th>\n",
       "    </tr>\n",
       "  </thead>\n",
       "  <tbody>\n",
       "    <tr>\n",
       "      <th>0</th>\n",
       "      <td>audio_0001945d.mp3</td>\n",
       "      <td>9.576</td>\n",
       "      <td>1426.060524</td>\n",
       "    </tr>\n",
       "    <tr>\n",
       "      <th>1</th>\n",
       "      <td>audio_0002ac69.mp3</td>\n",
       "      <td>7.560</td>\n",
       "      <td>1246.220745</td>\n",
       "    </tr>\n",
       "    <tr>\n",
       "      <th>2</th>\n",
       "      <td>audio_00070400.mp3</td>\n",
       "      <td>4.536</td>\n",
       "      <td>1074.869688</td>\n",
       "    </tr>\n",
       "    <tr>\n",
       "      <th>3</th>\n",
       "      <td>audio_0009db0f.mp3</td>\n",
       "      <td>7.056</td>\n",
       "      <td>1476.977876</td>\n",
       "    </tr>\n",
       "    <tr>\n",
       "      <th>4</th>\n",
       "      <td>audio_000dddec.mp3</td>\n",
       "      <td>2.916</td>\n",
       "      <td>1335.745604</td>\n",
       "    </tr>\n",
       "  </tbody>\n",
       "</table>\n",
       "</div>"
      ],
      "text/plain": [
       "            File Name  Audio Length (seconds)  Dominant Frequency\n",
       "0  audio_0001945d.mp3                   9.576         1426.060524\n",
       "1  audio_0002ac69.mp3                   7.560         1246.220745\n",
       "2  audio_00070400.mp3                   4.536         1074.869688\n",
       "3  audio_0009db0f.mp3                   7.056         1476.977876\n",
       "4  audio_000dddec.mp3                   2.916         1335.745604"
      ]
     },
     "execution_count": 16,
     "metadata": {},
     "output_type": "execute_result"
    }
   ],
   "source": [
    "df.head()"
   ]
  },
  {
   "cell_type": "code",
   "execution_count": 17,
   "metadata": {},
   "outputs": [
    {
     "data": {
      "text/plain": [
       "File Name                 19093\n",
       "Audio Length (seconds)      256\n",
       "Dominant Frequency        19093\n",
       "dtype: int64"
      ]
     },
     "execution_count": 17,
     "metadata": {},
     "output_type": "execute_result"
    }
   ],
   "source": [
    "df.nunique()"
   ]
  },
  {
   "cell_type": "markdown",
   "metadata": {},
   "source": [
    "### Split Data."
   ]
  },
  {
   "cell_type": "code",
   "execution_count": 308,
   "metadata": {},
   "outputs": [],
   "source": [
    "metadata_df.head(300).to_csv('data/notebook - 1.csv', index=False)"
   ]
  },
  {
   "cell_type": "code",
   "execution_count": 309,
   "metadata": {},
   "outputs": [],
   "source": [
    "metadata_df = pd.read_csv('data/notebook - 1.csv')\n"
   ]
  },
  {
   "cell_type": "code",
   "execution_count": 310,
   "metadata": {},
   "outputs": [
    {
     "name": "stdout",
     "output_type": "stream",
     "text": [
      "Size of training set: 240\n",
      "Size of validation set: 60\n"
     ]
    }
   ],
   "source": [
    "# splitting into training and validation data.\n",
    "\n",
    "split = int(len(metadata_df) * 0.8 )\n",
    "split2 = int(len(metadata_df) * 0.2 )\n",
    "train_df = metadata_df[:split]\n",
    "df_val = metadata_df[split:]\n",
    "\n",
    "print(f\"Size of training set: {len(train_df)}\")\n",
    "print(f\"Size of validation set: {len(df_val)}\")"
   ]
  },
  {
   "cell_type": "code",
   "execution_count": 311,
   "metadata": {},
   "outputs": [
    {
     "data": {
      "text/html": [
       "<div>\n",
       "<style scoped>\n",
       "    .dataframe tbody tr th:only-of-type {\n",
       "        vertical-align: middle;\n",
       "    }\n",
       "\n",
       "    .dataframe tbody tr th {\n",
       "        vertical-align: top;\n",
       "    }\n",
       "\n",
       "    .dataframe thead th {\n",
       "        text-align: right;\n",
       "    }\n",
       "</style>\n",
       "<table border=\"1\" class=\"dataframe\">\n",
       "  <thead>\n",
       "    <tr style=\"text-align: right;\">\n",
       "      <th></th>\n",
       "      <th>audio_ID</th>\n",
       "      <th>sentence</th>\n",
       "    </tr>\n",
       "  </thead>\n",
       "  <tbody>\n",
       "    <tr>\n",
       "      <th>0</th>\n",
       "      <td>audio_d43074e0</td>\n",
       "      <td>zao za Dar es Salaam na Nairobi mwaka elfumoja...</td>\n",
       "    </tr>\n",
       "    <tr>\n",
       "      <th>1</th>\n",
       "      <td>audio_2382f7f1</td>\n",
       "      <td>Wuasinkishu Siria Laitayiok Loitai Kisonko Mat...</td>\n",
       "    </tr>\n",
       "    <tr>\n",
       "      <th>2</th>\n",
       "      <td>audio_f99426d9</td>\n",
       "      <td>miti mingi hudondosha majani yake na maua hutokea</td>\n",
       "    </tr>\n",
       "    <tr>\n",
       "      <th>3</th>\n",
       "      <td>audio_dc0c00a3</td>\n",
       "      <td>Iwe dawa ya kosa langu</td>\n",
       "    </tr>\n",
       "    <tr>\n",
       "      <th>4</th>\n",
       "      <td>audio_409014fd</td>\n",
       "      <td>Wawakilishi wa makoloni yote kumi na tatu waka...</td>\n",
       "    </tr>\n",
       "  </tbody>\n",
       "</table>\n",
       "</div>"
      ],
      "text/plain": [
       "         audio_ID                                           sentence\n",
       "0  audio_d43074e0  zao za Dar es Salaam na Nairobi mwaka elfumoja...\n",
       "1  audio_2382f7f1  Wuasinkishu Siria Laitayiok Loitai Kisonko Mat...\n",
       "2  audio_f99426d9  miti mingi hudondosha majani yake na maua hutokea\n",
       "3  audio_dc0c00a3                             Iwe dawa ya kosa langu\n",
       "4  audio_409014fd  Wawakilishi wa makoloni yote kumi na tatu waka..."
      ]
     },
     "execution_count": 311,
     "metadata": {},
     "output_type": "execute_result"
    }
   ],
   "source": [
    "train_df.head()"
   ]
  },
  {
   "cell_type": "code",
   "execution_count": 312,
   "metadata": {},
   "outputs": [
    {
     "data": {
      "text/html": [
       "<div>\n",
       "<style scoped>\n",
       "    .dataframe tbody tr th:only-of-type {\n",
       "        vertical-align: middle;\n",
       "    }\n",
       "\n",
       "    .dataframe tbody tr th {\n",
       "        vertical-align: top;\n",
       "    }\n",
       "\n",
       "    .dataframe thead th {\n",
       "        text-align: right;\n",
       "    }\n",
       "</style>\n",
       "<table border=\"1\" class=\"dataframe\">\n",
       "  <thead>\n",
       "    <tr style=\"text-align: right;\">\n",
       "      <th></th>\n",
       "      <th>audio_ID</th>\n",
       "      <th>sentence</th>\n",
       "    </tr>\n",
       "  </thead>\n",
       "  <tbody>\n",
       "    <tr>\n",
       "      <th>240</th>\n",
       "      <td>audio_0706d283</td>\n",
       "      <td>chembe za umeme katika shughuli tofauti za viw...</td>\n",
       "    </tr>\n",
       "    <tr>\n",
       "      <th>241</th>\n",
       "      <td>audio_9ba8ab32</td>\n",
       "      <td>inayotumika kuwaondoa viongozi madarakani</td>\n",
       "    </tr>\n",
       "    <tr>\n",
       "      <th>242</th>\n",
       "      <td>audio_fb63e65a</td>\n",
       "      <td>kakar anadokeza kuwa ufafanuzi wa kimataifa wa...</td>\n",
       "    </tr>\n",
       "    <tr>\n",
       "      <th>243</th>\n",
       "      <td>audio_c1784e96</td>\n",
       "      <td>ni shabaha kwa maendeleo ya Gold Coast Lakini ...</td>\n",
       "    </tr>\n",
       "    <tr>\n",
       "      <th>244</th>\n",
       "      <td>audio_28d6ea43</td>\n",
       "      <td>na kwa umri wangu na kwa uzoefu wangu wa mji huu</td>\n",
       "    </tr>\n",
       "  </tbody>\n",
       "</table>\n",
       "</div>"
      ],
      "text/plain": [
       "           audio_ID                                           sentence\n",
       "240  audio_0706d283  chembe za umeme katika shughuli tofauti za viw...\n",
       "241  audio_9ba8ab32          inayotumika kuwaondoa viongozi madarakani\n",
       "242  audio_fb63e65a  kakar anadokeza kuwa ufafanuzi wa kimataifa wa...\n",
       "243  audio_c1784e96  ni shabaha kwa maendeleo ya Gold Coast Lakini ...\n",
       "244  audio_28d6ea43   na kwa umri wangu na kwa uzoefu wangu wa mji huu"
      ]
     },
     "execution_count": 312,
     "metadata": {},
     "output_type": "execute_result"
    }
   ],
   "source": [
    "df_val.head()"
   ]
  },
  {
   "cell_type": "markdown",
   "metadata": {},
   "source": [
    "## PREPROCESSING:"
   ]
  },
  {
   "cell_type": "code",
   "execution_count": 313,
   "metadata": {},
   "outputs": [
    {
     "name": "stdout",
     "output_type": "stream",
     "text": [
      "The vocabulary is : ['', 'a', 'b', 'c', 'd', 'e', 'f', 'g', 'h', 'i', 'j', 'k', 'l', 'm', 'n', 'o', 'p', 'q', 'r', 's', 't', 'u', 'v', 'w', 'x', 'y', 'z', \"'\", '?', '!', ' '](size is : 31)\n"
     ]
    }
   ],
   "source": [
    "# The set of characters accepted in the sentence\n",
    "characters = [x for x in \"abcdefghijklmnopqrstuvwxyz'?! \"]\n",
    "\n",
    "# mapping characters to integers.\n",
    "char_to_num = keras.layers.StringLookup(vocabulary=characters, oov_token='')\n",
    "# Mapping integers back to original characters.\n",
    "num_to_char = keras.layers.StringLookup(\n",
    "    vocabulary=char_to_num.get_vocabulary(), oov_token=\"\", invert=True\n",
    ")\n",
    "\n",
    "print(\n",
    "    f\"The vocabulary is : {char_to_num.get_vocabulary()}\"\n",
    "    f\"(size is : {char_to_num.vocabulary_size()})\"\n",
    ")"
   ]
  },
  {
   "cell_type": "code",
   "execution_count": 314,
   "metadata": {},
   "outputs": [
    {
     "data": {
      "text/plain": [
       "<keras.src.layers.preprocessing.string_lookup.StringLookup at 0x2a83d136a60>"
      ]
     },
     "execution_count": 314,
     "metadata": {},
     "output_type": "execute_result"
    }
   ],
   "source": [
    "char_to_num"
   ]
  },
  {
   "cell_type": "code",
   "execution_count": 315,
   "metadata": {},
   "outputs": [],
   "source": [
    "# An integer scalar Tensor. The window length in samples.\n",
    "frame_length = 256\n",
    "# An integer scalar Tensor. The number of samples to step.\n",
    "frame_step = 160\n",
    "# An integer scalar Tensor , The size of the FFT to apply.\n",
    "# If not provided , uses the smallest power of 2 enclosing frame lenght.\n",
    "fft_length = 384\n",
    "\n",
    "def encode_single_sample(wav_file, label):\n",
    "    ## Process the audio.\n",
    "    file = tf.io.read_file(wavs_path + wav_file + \".wav\")\n",
    "\n",
    "    ## Decode the audio file\n",
    "    audio, _ = tf.audio.decode_wav(file)\n",
    "    audio = tf.squeeze(audio, axis=-1)\n",
    "    ## Change type to float.\n",
    "    audio = tf.cast(audio, tf.float32)\n",
    "    ## Get the spectrogram\n",
    "    spectrogram = tf.signal.stft(\n",
    "        audio, frame_length=frame_length, frame_step=frame_step, fft_length=fft_length\n",
    "    )\n",
    "\n",
    "    ## We only need the magnitude which can be derived by applying tf.abs\n",
    "    spectrogram = tf.abs(spectrogram)\n",
    "    spectrogram = tf.math.pow(spectrogram, 0.5)\n",
    "\n",
    "    ## normalization.\n",
    "    means = tf.math.reduce_mean(spectrogram, 1, keepdims=True)\n",
    "    stddevs = tf.math.reduce_std(spectrogram, 1, keepdims=True)\n",
    "    spectrogram = (spectrogram - means) / (stddevs + 1e-10)\n",
    "\n",
    "    ## Process the label\n",
    "    ## Convert the label to lower case.\n",
    "    label = tf.strings.lower(label)\n",
    "    ## split the label\n",
    "    label = tf.strings.unicode_split(label, input_encoding='UTF-8')\n",
    "    ## Map the characters in label to numbers.\n",
    "    label = char_to_num(label)\n",
    "    # Return a dict as our model is expecting two inputs.\n",
    "    return spectrogram, label\n"
   ]
  },
  {
   "cell_type": "code",
   "execution_count": 316,
   "metadata": {},
   "outputs": [],
   "source": [
    "batch_size = 32\n",
    "# Define the training dataset.\n",
    "train_dataset = tf.data.Dataset.from_tensor_slices(\n",
    "    (list(train_df[\"audio_ID\"]), list(train_df[\"sentence\"]))\n",
    "\n",
    ")\n",
    "\n",
    "train_dataset = (\n",
    "    train_dataset.map(encode_single_sample, num_parallel_calls=tf.data.AUTOTUNE)\n",
    "    .padded_batch(batch_size)\n",
    "    .prefetch(buffer_size=tf.data.AUTOTUNE)\n",
    ")\n",
    "\n",
    "# Define the validation dataset.\n",
    "validation_dataset = tf.data.Dataset.from_tensor_slices(\n",
    "    (list(df_val[\"audio_ID\"]), list(df_val[\"sentence\"]))\n",
    ")\n",
    "\n",
    "validation_dataset = (\n",
    "    validation_dataset.map(encode_single_sample, num_parallel_calls=tf.data.AUTOTUNE)\n",
    "    .padded_batch(batch_size)\n",
    "    .prefetch(buffer_size=tf.data.AUTOTUNE)\n",
    ")"
   ]
  },
  {
   "cell_type": "code",
   "execution_count": 317,
   "metadata": {},
   "outputs": [],
   "source": [
    "def CTCLoss(y_true, y_pred):\n",
    "    # Compute the training-time loss_value\n",
    "    \n",
    "    batch_len = tf.cast(tf.shape(y_true)[0], dtype=\"int64\")\n",
    "    input_length = tf.cast(tf.shape(y_pred)[1], dtype=\"int64\")\n",
    "    label_length = tf.cast(tf.shape(y_true)[1], dtype=\"int64\")\n",
    "\n",
    "    input_length = input_length * tf.ones(shape=(batch_len, 1), dtype='int64')\n",
    "    label_length = label_length * tf.ones(shape=(batch_len, 1), dtype='int64')\n",
    "\n",
    "    loss = keras.backend.ctc_batch_cost(y_true, y_pred, input_length, label_length)\n",
    "\n",
    "    return loss"
   ]
  },
  {
   "cell_type": "code",
   "execution_count": 318,
   "metadata": {},
   "outputs": [
    {
     "name": "stdout",
     "output_type": "stream",
     "text": [
      "Model: \"DeepSpeech_2\"\n",
      "______________________________________________________________________________________________________________\n",
      " Layer (type)                                    Output Shape                                Param #          \n",
      "==============================================================================================================\n",
      " input (InputLayer)                              [(None, None, 193)]                         0                \n",
      "                                                                                                              \n",
      " expand_dim (Reshape)                            (None, None, 193, 1)                        0                \n",
      "                                                                                                              \n",
      " conv_1 (Conv2D)                                 (None, None, 97, 32)                        14432            \n",
      "                                                                                                              \n",
      " conv_1_bn (BatchNormalization)                  (None, None, 97, 32)                        128              \n",
      "                                                                                                              \n",
      " conv_1_relu (ReLU)                              (None, None, 97, 32)                        0                \n",
      "                                                                                                              \n",
      " conv_2 (Conv2D)                                 (None, None, 49, 32)                        236544           \n",
      "                                                                                                              \n",
      " conv_2_bn (BatchNormalization)                  (None, None, 49, 32)                        128              \n",
      "                                                                                                              \n",
      " conv_2_relu (ReLU)                              (None, None, 49, 32)                        0                \n",
      "                                                                                                              \n",
      " reshape_6 (Reshape)                             (None, None, 1568)                          0                \n",
      "                                                                                                              \n",
      " bidirectional_1 (Bidirectional)                 (None, None, 1024)                          6395904          \n",
      "                                                                                                              \n",
      " dropout_30 (Dropout)                            (None, None, 1024)                          0                \n",
      "                                                                                                              \n",
      " bidirectional_2 (Bidirectional)                 (None, None, 1024)                          4724736          \n",
      "                                                                                                              \n",
      " dropout_31 (Dropout)                            (None, None, 1024)                          0                \n",
      "                                                                                                              \n",
      " bidirectional_3 (Bidirectional)                 (None, None, 1024)                          4724736          \n",
      "                                                                                                              \n",
      " dropout_32 (Dropout)                            (None, None, 1024)                          0                \n",
      "                                                                                                              \n",
      " bidirectional_4 (Bidirectional)                 (None, None, 1024)                          4724736          \n",
      "                                                                                                              \n",
      " dropout_33 (Dropout)                            (None, None, 1024)                          0                \n",
      "                                                                                                              \n",
      " bidirectional_5 (Bidirectional)                 (None, None, 1024)                          4724736          \n",
      "                                                                                                              \n",
      " dense_1 (Dense)                                 (None, None, 1024)                          1049600          \n",
      "                                                                                                              \n",
      " dense_1_relu (ReLU)                             (None, None, 1024)                          0                \n",
      "                                                                                                              \n",
      " dropout_34 (Dropout)                            (None, None, 1024)                          0                \n",
      "                                                                                                              \n",
      " dense_6 (Dense)                                 (None, None, 32)                            32800            \n",
      "                                                                                                              \n",
      "==============================================================================================================\n",
      "Total params: 26628480 (101.58 MB)\n",
      "Trainable params: 26628352 (101.58 MB)\n",
      "Non-trainable params: 128 (512.00 Byte)\n",
      "______________________________________________________________________________________________________________\n"
     ]
    }
   ],
   "source": [
    "def build_model(input_dim, output_dim, rnn_layers=5, rnn_units=128):\n",
    "    \n",
    "    ## Model similar to DeepSpeech2.\n",
    "    input_spectrogram = layers.Input((None, input_dim), name=\"input\")\n",
    "    ## Expand the dimension to use 2D CNN\n",
    "    x = layers.Reshape((-1, input_dim, 1), name=\"expand_dim\")(input_spectrogram)\n",
    "\n",
    "    ## Convolution layer 1\n",
    "    x = layers.Conv2D(\n",
    "        filters=32,\n",
    "        kernel_size=[11,41],\n",
    "        strides=[2, 2],\n",
    "        padding=\"same\",\n",
    "        use_bias=False,\n",
    "        name=\"conv_1\",\n",
    "    )(x)\n",
    "    x = layers.BatchNormalization(name=\"conv_1_bn\")(x)\n",
    "    x = layers.ReLU(name=\"conv_1_relu\")(x)\n",
    "\n",
    "    ## Convolution layer 2\n",
    "    x = layers.Conv2D(\n",
    "        filters=32,\n",
    "        kernel_size=[11, 21],\n",
    "        strides=[1,2],\n",
    "        padding=\"same\",\n",
    "        use_bias=False,\n",
    "        name=\"conv_2\",\n",
    "    )(x)\n",
    "    x = layers.BatchNormalization(name=\"conv_2_bn\")(x)\n",
    "    x = layers.ReLU(name=\"conv_2_relu\")(x)\n",
    "    # Reshape the resulted volume to feed the RNNs layers.\n",
    "    x = layers.Reshape((-1, x.shape[-2] * x.shape[-1]))(x)\n",
    "    # RNN Layers.\n",
    "    for i in range(1, rnn_layers + 1):\n",
    "        recurrent = layers.GRU(\n",
    "            units=rnn_units,\n",
    "            activation=\"tanh\",\n",
    "            recurrent_activation=\"sigmoid\",\n",
    "            use_bias=True,\n",
    "            return_sequences=True,\n",
    "            reset_after=True,\n",
    "            name=f\"gru_{i}\",\n",
    "        )\n",
    "        x = layers.Bidirectional(\n",
    "            recurrent, name=f\"bidirectional_{i}\", merge_mode=\"concat\"\n",
    "        )(x)\n",
    "        if i < rnn_layers:\n",
    "            x = layers.Dropout(rate=0.5)(x)\n",
    "\n",
    "    # Dense layer.\n",
    "    x = layers.Dense(units=rnn_units * 2, name=\"dense_1\")(x)\n",
    "    x = layers.ReLU(name=\"dense_1_relu\")(x)\n",
    "    x = layers.Dropout(rate=0.5)(x)\n",
    "    # Classification layer.\n",
    "    output = layers.Dense(units=output_dim + 1, activation=\"softmax\")(x)\n",
    "    # Model\n",
    "    model = keras.Model(input_spectrogram, output, name=\"DeepSpeech_2\")\n",
    "    # Optimizer.\n",
    "    opt = keras.optimizers.Adam(learning_rate=1e-4)\n",
    "    # Compile the model and return\n",
    "    model.compile(optimizer=opt, loss=CTCLoss)\n",
    "    return model\n",
    "\n",
    "# Get the model.\n",
    "model = build_model(\n",
    "    input_dim=fft_length // 2 + 1,\n",
    "    output_dim=char_to_num.vocabulary_size(),\n",
    "    rnn_units=512,\n",
    ")\n",
    "model.summary(line_length=110)"
   ]
  },
  {
   "cell_type": "markdown",
   "metadata": {},
   "source": [
    "## Training and evaluating."
   ]
  },
  {
   "cell_type": "code",
   "execution_count": 319,
   "metadata": {},
   "outputs": [],
   "source": [
    "# A utility function to decode the output of the network.\n",
    "def decode_batch_predictions(pred):\n",
    "    input_len = np.ones(pred.shape[0] * pred.shape[1])\n",
    "    # Use_greedy search\n",
    "    results = keras.backend.ctc_decode(pred, input_length=input_len, greedy=True)[0][0]\n",
    "    ## Iterate over the results and get back the text.\n",
    "    output_text = []\n",
    "    for result in results:\n",
    "        result = tf.strings.reduce_join(num_to_char(result)).numpy().decode('utf-8')\n",
    "        output_text.append(result)\n",
    "    return output_text\n",
    "\n",
    "## A callback class to output a few transcription during training.\n",
    "class CallbackEval(keras.callbacks.Callback):\n",
    "    ## Display a batch of outputs after every epoch.\n",
    "\n",
    "    def __init__(self, dataset):\n",
    "        super().__init__()\n",
    "        self.dataset = dataset\n",
    "\n",
    "    def on_epoch_end(self, epoch: int, logs=None):\n",
    "        predictions = []\n",
    "        targets = []\n",
    "        for batch in self.dataset:\n",
    "            X, y = batch\n",
    "            batch_predictions = model.predict(X)\n",
    "            batch_predictions = decode_batch_predictions(batch_predictions)\n",
    "            predictions.extend(batch_predictions)\n",
    "            for label in y:\n",
    "                label = (\n",
    "                    tf.strings.reduce_join(num_to_char(label)).numpy().decode('utf-8')\n",
    "                )\n",
    "                targets.append(label)\n",
    "\n",
    "        wer_score = wer(targets, predictions)\n",
    "        print(\"-\" * 100)\n",
    "        print(f\"Word Error Rate: {wer_score:.4f}\")\n",
    "        print(\"-\" * 100)\n",
    "        for i in np.random.randint(0, len(predictions), 2):\n",
    "            print(f\"Target    : {targets[i]}\")\n",
    "            print(f\"Prediction: {predictions[i]}\")\n",
    "            print(\"-\" * 100)"
   ]
  },
  {
   "cell_type": "code",
   "execution_count": 320,
   "metadata": {},
   "outputs": [
    {
     "name": "stdout",
     "output_type": "stream",
     "text": [
      "Epoch 1/2\n"
     ]
    },
    {
     "ename": "NotFoundError",
     "evalue": "Graph execution error:\n\nNewRandomAccessFile failed to Create/Open: audio_files/train_wavs/audio_d43074e0.wav : The system cannot find the file specified.\r\n; No such file or directory\n\t [[{{node ReadFile}}]]\n\t [[IteratorGetNext]] [Op:__inference_train_function_183882]",
     "output_type": "error",
     "traceback": [
      "\u001b[1;31m---------------------------------------------------------------------------\u001b[0m",
      "\u001b[1;31mNotFoundError\u001b[0m                             Traceback (most recent call last)",
      "Cell \u001b[1;32mIn[320], line 6\u001b[0m\n\u001b[0;32m      4\u001b[0m validation_callback \u001b[39m=\u001b[39m CallbackEval(validation_dataset)\n\u001b[0;32m      5\u001b[0m \u001b[39m## Train the model.\u001b[39;00m\n\u001b[1;32m----> 6\u001b[0m history \u001b[39m=\u001b[39m model\u001b[39m.\u001b[39;49mfit(\n\u001b[0;32m      7\u001b[0m     train_dataset,\n\u001b[0;32m      8\u001b[0m     validation_data\u001b[39m=\u001b[39;49mvalidation_dataset,\n\u001b[0;32m      9\u001b[0m     epochs\u001b[39m=\u001b[39;49mepochs,\n\u001b[0;32m     10\u001b[0m     callbacks\u001b[39m=\u001b[39;49m[validation_callback],\n\u001b[0;32m     11\u001b[0m \n\u001b[0;32m     12\u001b[0m     )\n",
      "File \u001b[1;32md:\\Projects\\Hackathons\\AI4D ASR Challenge\\env\\lib\\site-packages\\keras\\src\\utils\\traceback_utils.py:70\u001b[0m, in \u001b[0;36mfilter_traceback.<locals>.error_handler\u001b[1;34m(*args, **kwargs)\u001b[0m\n\u001b[0;32m     67\u001b[0m     filtered_tb \u001b[39m=\u001b[39m _process_traceback_frames(e\u001b[39m.\u001b[39m__traceback__)\n\u001b[0;32m     68\u001b[0m     \u001b[39m# To get the full stack trace, call:\u001b[39;00m\n\u001b[0;32m     69\u001b[0m     \u001b[39m# `tf.debugging.disable_traceback_filtering()`\u001b[39;00m\n\u001b[1;32m---> 70\u001b[0m     \u001b[39mraise\u001b[39;00m e\u001b[39m.\u001b[39mwith_traceback(filtered_tb) \u001b[39mfrom\u001b[39;00m \u001b[39mNone\u001b[39;00m\n\u001b[0;32m     71\u001b[0m \u001b[39mfinally\u001b[39;00m:\n\u001b[0;32m     72\u001b[0m     \u001b[39mdel\u001b[39;00m filtered_tb\n",
      "File \u001b[1;32md:\\Projects\\Hackathons\\AI4D ASR Challenge\\env\\lib\\site-packages\\tensorflow\\python\\eager\\execute.py:53\u001b[0m, in \u001b[0;36mquick_execute\u001b[1;34m(op_name, num_outputs, inputs, attrs, ctx, name)\u001b[0m\n\u001b[0;32m     51\u001b[0m \u001b[39mtry\u001b[39;00m:\n\u001b[0;32m     52\u001b[0m   ctx\u001b[39m.\u001b[39mensure_initialized()\n\u001b[1;32m---> 53\u001b[0m   tensors \u001b[39m=\u001b[39m pywrap_tfe\u001b[39m.\u001b[39mTFE_Py_Execute(ctx\u001b[39m.\u001b[39m_handle, device_name, op_name,\n\u001b[0;32m     54\u001b[0m                                       inputs, attrs, num_outputs)\n\u001b[0;32m     55\u001b[0m \u001b[39mexcept\u001b[39;00m core\u001b[39m.\u001b[39m_NotOkStatusException \u001b[39mas\u001b[39;00m e:\n\u001b[0;32m     56\u001b[0m   \u001b[39mif\u001b[39;00m name \u001b[39mis\u001b[39;00m \u001b[39mnot\u001b[39;00m \u001b[39mNone\u001b[39;00m:\n",
      "\u001b[1;31mNotFoundError\u001b[0m: Graph execution error:\n\nNewRandomAccessFile failed to Create/Open: audio_files/train_wavs/audio_d43074e0.wav : The system cannot find the file specified.\r\n; No such file or directory\n\t [[{{node ReadFile}}]]\n\t [[IteratorGetNext]] [Op:__inference_train_function_183882]"
     ]
    }
   ],
   "source": [
    "## Lets start training.\n",
    "epochs = 2\n",
    "## CallBack function to check sentence in validation set.\n",
    "validation_callback = CallbackEval(validation_dataset)\n",
    "## Train the model.\n",
    "history = model.fit(\n",
    "    train_dataset,\n",
    "    validation_data=validation_dataset,\n",
    "    epochs=epochs,\n",
    "    callbacks=[validation_callback],\n",
    "\n",
    "    )"
   ]
  },
  {
   "cell_type": "markdown",
   "metadata": {},
   "source": [
    "## Inferences"
   ]
  },
  {
   "cell_type": "code",
   "execution_count": null,
   "metadata": {},
   "outputs": [],
   "source": [
    "## Let us check the results on the validation samples.\n",
    "predictions = []\n",
    "targets = []\n",
    "for batch in validation_dataset:\n",
    "    X, y = batch\n",
    "    batch_predictions = model.predict(X)\n",
    "    batch_predictions = decode_batch_predictions(batch_predictions)\n",
    "    predictions.extend(batch_predictions)\n",
    "    for label in y:\n",
    "        label = tf.strings.reduce_join(num_to_char(label)).numpy().decode(\"utf-8\")\n",
    "        targets.append(label)\n",
    "wer_score = wer(targets, predictions)\n",
    "print(\"-\" * 100)\n",
    "print(f\"Word Error Rate: {wer_score:.4f}\")\n",
    "print(\"-\" * 100)\n",
    "for i in np.random.randint(0, len(predictions), 5):\n",
    "        print(f\"Target    : {targets[i]}\")\n",
    "        print(f\"Prediction: {predictions[i]}\")\n",
    "        print(\"-\" * 100)"
   ]
  }
 ],
 "metadata": {
  "kernelspec": {
   "display_name": "env",
   "language": "python",
   "name": "python3"
  },
  "language_info": {
   "codemirror_mode": {
    "name": "ipython",
    "version": 3
   },
   "file_extension": ".py",
   "mimetype": "text/x-python",
   "name": "python",
   "nbconvert_exporter": "python",
   "pygments_lexer": "ipython3",
   "version": "3.9.10"
  },
  "orig_nbformat": 4
 },
 "nbformat": 4,
 "nbformat_minor": 2
}
